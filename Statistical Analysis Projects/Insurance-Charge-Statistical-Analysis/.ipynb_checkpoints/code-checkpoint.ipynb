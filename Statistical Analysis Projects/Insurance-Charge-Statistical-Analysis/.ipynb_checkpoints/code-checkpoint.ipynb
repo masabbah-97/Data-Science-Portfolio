{
 "cells": [
  {
   "cell_type": "markdown",
   "id": "d4f98048-2961-46db-9845-64df557ad84f",
   "metadata": {},
   "source": [
    "# A Statistical Analysis of Insurance Pricing"
   ]
  },
  {
   "cell_type": "code",
   "execution_count": null,
   "id": "f8a65bbb-e2f3-47bd-a164-8aea176fd32e",
   "metadata": {},
   "outputs": [
    {
     "name": "stderr",
     "output_type": "stream",
     "text": [
      "also installing the dependencies ‘dplyr’, ‘tibble’, ‘tidyselect’\n",
      "\n",
      "\n",
      "Warning message in install.packages(\"tidyr\"):\n",
      "“installation of package ‘tibble’ had non-zero exit status”\n",
      "Warning message in install.packages(\"tidyr\"):\n",
      "“installation of package ‘tidyselect’ had non-zero exit status”\n",
      "Warning message in install.packages(\"tidyr\"):\n",
      "“installation of package ‘dplyr’ had non-zero exit status”\n",
      "Warning message in install.packages(\"tidyr\"):\n",
      "“installation of package ‘tidyr’ had non-zero exit status”\n",
      "Updating HTML index of packages in '.Library'\n",
      "\n",
      "Making 'packages.html' ...\n",
      " done\n",
      "\n",
      "also installing the dependencies ‘plyr’, ‘Rcpp’\n",
      "\n",
      "\n",
      "Updating HTML index of packages in '.Library'\n",
      "\n",
      "Making 'packages.html' ...\n",
      " done\n",
      "\n",
      "also installing the dependency ‘lattice’\n",
      "\n",
      "\n",
      "Updating HTML index of packages in '.Library'\n",
      "\n",
      "Making 'packages.html' ...\n",
      " done\n",
      "\n",
      "also installing the dependencies ‘boot’, ‘rjags’, ‘abind’, ‘R2WinBUGS’\n",
      "\n",
      "\n",
      "Warning message in install.packages(\"R2jags\"):\n",
      "“installation of package ‘rjags’ had non-zero exit status”\n",
      "Warning message in install.packages(\"R2jags\"):\n",
      "“installation of package ‘R2jags’ had non-zero exit status”\n",
      "Updating HTML index of packages in '.Library'\n",
      "\n",
      "Making 'packages.html' ...\n",
      " done\n",
      "\n",
      "Updating HTML index of packages in '.Library'\n",
      "\n",
      "Making 'packages.html' ...\n",
      " done\n",
      "\n",
      "Warning message:\n",
      "“dependencies ‘MASS’, ‘pbkrtest’, ‘Matrix’ are not available”\n",
      "also installing the dependencies ‘rbibutils’, ‘Rdpack’, ‘colorspace’, ‘SparseM’, ‘MatrixModels’, ‘survival’, ‘minqa’, ‘nloptr’, ‘reformulas’, ‘RcppEigen’, ‘farver’, ‘labeling’, ‘munsell’, ‘RColorBrewer’, ‘viridisLite’, ‘carData’, ‘Formula’, ‘mgcv’, ‘nnet’, ‘quantreg’, ‘lme4’, ‘nlme’, ‘scales’\n",
      "\n",
      "\n"
     ]
    }
   ],
   "source": [
    "install.packages(\"tidyr\")\n",
    "install.packages(\"reshape2\")\n",
    "install.packages(\"coda\")\n",
    "install.packages(\"R2jags\")\n",
    "install.packages(\"nortest\")\n",
    "install.packages(\"car\")\n",
    "install.packages(\"e1071\")\n",
    "install.packages(\"caret\")\n",
    "library(nortest)\n",
    "library(car)\n",
    "library(tidyr)\n",
    "library(ggplot2)\n",
    "library(reshape2)\n",
    "library(R2jags)\n",
    "library(e1071) \n",
    "library(knitr)\n",
    "library(dplyr)\n",
    "library (gridExtra)\n",
    "library(Metrics)\n",
    "library(caret)"
   ]
  },
  {
   "cell_type": "markdown",
   "id": "4ca1bd9d-6285-4fac-b8d7-3f4be7771f63",
   "metadata": {},
   "source": [
    "# Introduction\r",
    "\r",
    "Modern healthcare systems rely heavily on medical insurance as they provide financial protection and access to medical services. Exploring the factors affecting insurance charges can help companies and individuals to make better informed decisions. A statistical analysis is carried out in this project to identify the key factors that affect insurance charges, as well as make predictions regarding said charges.\r"
   ]
  },
  {
   "cell_type": "code",
   "execution_count": null,
   "id": "8d05dbf7-49bb-4bbe-a6ab-8c05504be3a7",
   "metadata": {},
   "outputs": [],
   "source": []
  }
 ],
 "metadata": {
  "kernelspec": {
   "display_name": "R",
   "language": "R",
   "name": "ir"
  },
  "language_info": {
   "codemirror_mode": "r",
   "file_extension": ".r",
   "mimetype": "text/x-r-source",
   "name": "R",
   "pygments_lexer": "r",
   "version": "4.1.1"
  }
 },
 "nbformat": 4,
 "nbformat_minor": 5
}
